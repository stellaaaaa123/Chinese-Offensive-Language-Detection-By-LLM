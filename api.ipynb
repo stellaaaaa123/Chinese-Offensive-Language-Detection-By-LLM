{
 "cells": [
  {
   "cell_type": "markdown",
   "metadata": {},
   "source": [
    "python -m vllm.entrypoints.openai.api_server --model /hpc2hdd/home/dxing004/jhaidata/temp/LLaMA-Factory/export/lora_422_toxiCHCO_generalprompt  --trust-remote-code --dtype auto --api-key token-abc123 --enable-prefix-caching"
   ]
  },
  {
   "cell_type": "code",
   "execution_count": 31,
   "metadata": {},
   "outputs": [],
   "source": [
    "from openai import OpenAI\n",
    "client = OpenAI(\n",
    "    base_url=\"http://localhost:8000/v1\",\n",
    "    api_key=\"token-abc123\",\n",
    ")"
   ]
  },
  {
   "cell_type": "code",
   "execution_count": 32,
   "metadata": {},
   "outputs": [
    {
     "name": "stdout",
     "output_type": "stream",
     "text": [
      " \n",
      " not hate\n"
     ]
    }
   ],
   "source": [
    "completion = client.chat.completions.create(\n",
    "  model=\"/hpc2hdd/home/dxing004/jhaidata/temp/LLaMA-Factory/export/lora_422_toxiCHCO_generalprompt\",\n",
    "  messages=[\n",
    "    {\"role\": \"system\", \"content\": \"请判断以下文本是否包含不良内容或攻击性言论，并给出相应的回答（not hate或hate）。若包含不良内容或攻击性言论，输出hate。否则，输出not hate。\"},\n",
    "    {\"role\": \"user\", \"content\": \"你真好看\"}\n",
    "  ]\n",
    ")\n",
    "\n",
    "print(completion.choices[0].message.content)"
   ]
  },
  {
   "cell_type": "code",
   "execution_count": 36,
   "metadata": {},
   "outputs": [],
   "source": [
    "# 从JSON文件中读取数据\n",
    "import json\n",
    "import time\n",
    "def load_data_from_json(file_path):\n",
    "    with open(file_path, 'r', encoding='utf-8') as file:\n",
    "        return json.load(file)\n",
    "\n",
    "def generate_outputs(data):\n",
    "    outputs = []\n",
    "    start_time = time.time() \n",
    "    for item in data:\n",
    "        completion = client.chat.completions.create(model=\"/hpc2hdd/home/dxing004/jhaidata/temp/LLaMA-Factory/export/lora_422_toxiCHCO_generalprompt\",\n",
    "        messages=[\n",
    "    {\"role\": \"system\", \"content\": item['instruction']},\n",
    "    {\"role\": \"user\", \"content\": item['input']}])\n",
    "        text=completion.choices[0].message.content\n",
    "        outputs.append(text)\n",
    "    end_time = time.time() \n",
    "    inference_time = end_time - start_time\n",
    "    return outputs, inference_time"
   ]
  },
  {
   "cell_type": "code",
   "execution_count": 39,
   "metadata": {},
   "outputs": [],
   "source": [
    "data_path='/hpc2hdd/home/dxing004/project/zh/COLD_test_generalprompt.json'\n",
    "data = load_data_from_json(data_path)\n",
    "outputs, inference_time = generate_outputs(data[:50])"
   ]
  },
  {
   "cell_type": "code",
   "execution_count": 40,
   "metadata": {},
   "outputs": [
    {
     "data": {
      "text/plain": [
       "6.928138971328735"
      ]
     },
     "execution_count": 40,
     "metadata": {},
     "output_type": "execute_result"
    }
   ],
   "source": [
    "inference_time"
   ]
  },
  {
   "cell_type": "code",
   "execution_count": null,
   "metadata": {},
   "outputs": [],
   "source": [
    "import time\n",
    "import requests\n",
    "import json\n",
    "url = 'http://localhost:8000/generate'\n",
    "headers = {'Content-Type': 'application/json'}\n",
    "data = {\n",
    "    'inputs': \"判断下面内容是否包含不良言论（若包含请只输出hate，否则只输出not hate）。请判断：“你真是好人”\",\n",
    "    \"parameters\": {\n",
    "        'do_sample': False,\n",
    "        'ignore_eos': False,\n",
    "        'max_new_tokens': 1024,\n",
    "    }\n",
    "}\n",
    "response = requests.post(url, headers=headers, data=json.dumps(data))\n",
    "if response.status_code == 200:\n",
    "    print(response.json())\n",
    "else:\n",
    "    print('Error:', response.status_code, response.text)"
   ]
  }
 ],
 "metadata": {
  "kernelspec": {
   "display_name": "Python 3.10.13 ('xdyyy': conda)",
   "language": "python",
   "name": "python3"
  },
  "language_info": {
   "codemirror_mode": {
    "name": "ipython",
    "version": 3
   },
   "file_extension": ".py",
   "mimetype": "text/x-python",
   "name": "python",
   "nbconvert_exporter": "python",
   "pygments_lexer": "ipython3",
   "version": "3.10.13"
  },
  "orig_nbformat": 4,
  "vscode": {
   "interpreter": {
    "hash": "0c242311d2eb9b45d6fc6cb78eac4233b7c4552156a9a5bf3a1e07680e650e96"
   }
  }
 },
 "nbformat": 4,
 "nbformat_minor": 2
}
