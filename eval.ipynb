{
 "cells": [
  {
   "cell_type": "markdown",
   "metadata": {},
   "source": [
    "## gpt4"
   ]
  },
  {
   "cell_type": "code",
   "execution_count": 1,
   "metadata": {},
   "outputs": [
    {
     "name": "stdout",
     "output_type": "stream",
     "text": [
      "Accuracy: 0.7482372459560348\n",
      "Precision: 0.85068349106204\n",
      "Recall: 0.6350078492935636\n",
      "F1-score: 0.7271910112359551\n"
     ]
    }
   ],
   "source": [
    "import json\n",
    "from sklearn.metrics import accuracy_score, precision_score, recall_score, f1_score\n",
    "\n",
    "# 初始化标签和预测列表\n",
    "binary_labels = []\n",
    "predictions = []\n",
    "\n",
    "# 读取整个JSON文件的内容\n",
    "with open('/hpc2hdd/home/dxing004/project/inputdata/gpt4_Toxicn_results.json', 'r', encoding='utf-8') as file:\n",
    "    try:\n",
    "        data = json.load(file)  # 一次性加载整个文件\n",
    "        for item in data:\n",
    "            label = 1 if item['expected_output'] == '是' else 0\n",
    "            predict = 1 if item['predicted_output'] == '是' else 0\n",
    "            binary_labels.append(label)\n",
    "            predictions.append(predict)\n",
    "\n",
    "        # 计算性能指标\n",
    "        accuracy = accuracy_score(binary_labels, predictions)\n",
    "        precision = precision_score(binary_labels, predictions)\n",
    "        recall = recall_score(binary_labels, predictions)\n",
    "        f1 = f1_score(binary_labels, predictions)\n",
    "\n",
    "        # 打印结果\n",
    "        print(\"Accuracy:\", accuracy)\n",
    "        print(\"Precision:\", precision)\n",
    "        print(\"Recall:\", recall)\n",
    "        print(\"F1-score:\", f1)\n",
    "\n",
    "    except json.JSONDecodeError as e:\n",
    "        print(f\"JSON decode error: {e}\")\n",
    "    except Exception as e:\n",
    "        print(f\"An error occurred: {e}\")"
   ]
  },
  {
   "cell_type": "markdown",
   "metadata": {},
   "source": [
    "## general/few shot"
   ]
  },
  {
   "cell_type": "code",
   "execution_count": 1,
   "metadata": {},
   "outputs": [
    {
     "name": "stdout",
     "output_type": "stream",
     "text": [
      "Accuracy: 0.8089092422980849\n",
      "Precision: 0.8441345365053322\n",
      "Recall: 0.7927580893682589\n",
      "F1-score: 0.8176400476758046\n"
     ]
    }
   ],
   "source": [
    "import json\n",
    "from sklearn.metrics import accuracy_score, precision_score, recall_score, f1_score\n",
    "\n",
    "binary_labels = []\n",
    "predictions = []\n",
    "\n",
    "with open('/hpc2hdd/home/dxing004/jhaidata/temp/LLaMA-Factory/saves/ChatGLM3-6B-Chat/lora/eval_416_finetune_ToxiCN_generalprompt/generated_predictions.jsonl', 'r') as file:\n",
    "    for line in file:\n",
    "        data = json.loads(line)\n",
    "        label = 1 if data['label'] == 'hate' else 0\n",
    "        predict = 1 if data['predict'] == 'hate' else 0\n",
    "        binary_labels.append(label)\n",
    "        predictions.append(predict)\n",
    "\n",
    "# 计算评估指标\n",
    "accuracy = accuracy_score(binary_labels, predictions)\n",
    "precision = precision_score(binary_labels, predictions)\n",
    "recall = recall_score(binary_labels, predictions)\n",
    "f1 = f1_score(binary_labels, predictions)\n",
    "\n",
    "# 打印结果\n",
    "print(\"Accuracy:\", accuracy)\n",
    "print(\"Precision:\", precision)\n",
    "print(\"Recall:\", recall)\n",
    "print(\"F1-score:\", f1)"
   ]
  },
  {
   "cell_type": "code",
   "execution_count": 2,
   "metadata": {},
   "outputs": [
    {
     "name": "stdout",
     "output_type": "stream",
     "text": [
      "Accuracy: 0.8032274856845393\n",
      "Precision: 0.7796697626418989\n",
      "Recall: 0.821195652173913\n",
      "F1-score: 0.7998941238750662\n"
     ]
    }
   ],
   "source": [
    "import json\n",
    "from sklearn.metrics import accuracy_score, precision_score, recall_score, f1_score\n",
    "\n",
    "binary_labels = []\n",
    "predictions = []\n",
    "\n",
    "with open('/hpc2hdd/home/dxing004/jhaidata/temp/LLaMA-Factory/saves/ChatGLM3-6B-Chat/lora/eval_416_finetune_CHSD_generalprompt/generated_predictions.jsonl', 'r') as file:\n",
    "    for line in file:\n",
    "        data = json.loads(line)\n",
    "        label = 1 if data['label'] == 'hate' else 0\n",
    "        predict = 1 if data['predict'] == 'hate' else 0\n",
    "        binary_labels.append(label)\n",
    "        predictions.append(predict)\n",
    "\n",
    "# 计算评估指标\n",
    "accuracy = accuracy_score(binary_labels, predictions)\n",
    "precision = precision_score(binary_labels, predictions)\n",
    "recall = recall_score(binary_labels, predictions)\n",
    "f1 = f1_score(binary_labels, predictions)\n",
    "\n",
    "# 打印结果\n",
    "print(\"Accuracy:\", accuracy)\n",
    "print(\"Precision:\", precision)\n",
    "print(\"Recall:\", recall)\n",
    "print(\"F1-score:\", f1)"
   ]
  },
  {
   "cell_type": "code",
   "execution_count": 2,
   "metadata": {},
   "outputs": [
    {
     "name": "stdout",
     "output_type": "stream",
     "text": [
      "Accuracy: 0.8141592920353983\n",
      "Precision: 0.7658168083097262\n",
      "Recall: 0.8815217391304347\n",
      "F1-score: 0.8196058615462355\n"
     ]
    }
   ],
   "source": [
    "import json\n",
    "from sklearn.metrics import accuracy_score, precision_score, recall_score, f1_score\n",
    "\n",
    "binary_labels = []\n",
    "predictions = []\n",
    "\n",
    "with open('/hpc2hdd/home/dxing004/jhaidata/temp/LLaMA-Factory/saves/ChatGLM3-6B-Chat/lora/eval_416_finetune_CHSD_fewprompt/generated_predictions.jsonl', 'r') as file:\n",
    "    for line in file:\n",
    "        data = json.loads(line)\n",
    "        label = 1 if data['label'] == 'hate' else 0\n",
    "        predict = 1 if data['predict'] == 'hate' else 0\n",
    "        binary_labels.append(label)\n",
    "        predictions.append(predict)\n",
    "\n",
    "# 计算评估指标\n",
    "accuracy = accuracy_score(binary_labels, predictions)\n",
    "precision = precision_score(binary_labels, predictions)\n",
    "recall = recall_score(binary_labels, predictions)\n",
    "f1 = f1_score(binary_labels, predictions)\n",
    "\n",
    "# 打印结果\n",
    "print(\"Accuracy:\", accuracy)\n",
    "print(\"Precision:\", precision)\n",
    "print(\"Recall:\", recall)\n",
    "print(\"F1-score:\", f1)"
   ]
  },
  {
   "cell_type": "code",
   "execution_count": 4,
   "metadata": {},
   "outputs": [
    {
     "name": "stdout",
     "output_type": "stream",
     "text": [
      "Accuracy: 0.8200263009581064\n",
      "Precision: 0.7527496700395953\n",
      "Recall: 0.8120550545799715\n",
      "F1-score: 0.7812785388127854\n"
     ]
    }
   ],
   "source": [
    "import json\n",
    "from sklearn.metrics import accuracy_score, precision_score, recall_score, f1_score\n",
    "\n",
    "binary_labels = []\n",
    "predictions = []\n",
    "\n",
    "with open('/hpc2hdd/home/dxing004/jhaidata/temp/LLaMA-Factory/saves/ChatGLM3-6B-Chat/lora/eval_416_finetune_COLD_generalprompt/generated_predictions.jsonl', 'r') as file:\n",
    "    for line in file:\n",
    "        data = json.loads(line)\n",
    "        label = 1 if data['label'] == 'hate' else 0\n",
    "        predict = 1 if data['predict'] == 'hate' else 0\n",
    "        binary_labels.append(label)\n",
    "        predictions.append(predict)\n",
    "\n",
    "# 计算评估指标\n",
    "accuracy = accuracy_score(binary_labels, predictions)\n",
    "precision = precision_score(binary_labels, predictions)\n",
    "recall = recall_score(binary_labels, predictions)\n",
    "f1 = f1_score(binary_labels, predictions)\n",
    "\n",
    "# 打印结果\n",
    "print(\"Accuracy:\", accuracy)\n",
    "print(\"Precision:\", precision)\n",
    "print(\"Recall:\", recall)\n",
    "print(\"F1-score:\", f1)"
   ]
  },
  {
   "cell_type": "code",
   "execution_count": 5,
   "metadata": {},
   "outputs": [
    {
     "name": "stdout",
     "output_type": "stream",
     "text": [
      "Accuracy: 0.8318617321059553\n",
      "Precision: 0.7399049881235155\n",
      "Recall: 0.8870431893687708\n",
      "F1-score: 0.8068206345780272\n"
     ]
    }
   ],
   "source": [
    "import json\n",
    "from sklearn.metrics import accuracy_score, precision_score, recall_score, f1_score\n",
    "\n",
    "binary_labels = []\n",
    "predictions = []\n",
    "\n",
    "with open('/hpc2hdd/home/dxing004/jhaidata/temp/LLaMA-Factory/saves/ChatGLM3-6B-Chat/lora/eval_416_finetune_COLD_fewprompt/generated_predictions.jsonl', 'r') as file:\n",
    "    for line in file:\n",
    "        data = json.loads(line)\n",
    "        label = 1 if data['label'] == 'hate' else 0\n",
    "        predict = 1 if data['predict'] == 'hate' else 0\n",
    "        binary_labels.append(label)\n",
    "        predictions.append(predict)\n",
    "\n",
    "# 计算评估指标\n",
    "accuracy = accuracy_score(binary_labels, predictions)\n",
    "precision = precision_score(binary_labels, predictions)\n",
    "recall = recall_score(binary_labels, predictions)\n",
    "f1 = f1_score(binary_labels, predictions)\n",
    "\n",
    "# 打印结果\n",
    "print(\"Accuracy:\", accuracy)\n",
    "print(\"Precision:\", precision)\n",
    "print(\"Recall:\", recall)\n",
    "print(\"F1-score:\", f1)"
   ]
  },
  {
   "cell_type": "code",
   "execution_count": 3,
   "metadata": {},
   "outputs": [
    {
     "name": "stdout",
     "output_type": "stream",
     "text": [
      "Accuracy: 0.7121290994273816\n",
      "Precision: 0.7133720930232558\n",
      "Recall: 0.6668478260869565\n",
      "F1-score: 0.6893258426966292\n"
     ]
    }
   ],
   "source": [
    "import json\n",
    "from sklearn.metrics import accuracy_score, precision_score, recall_score, f1_score\n",
    "\n",
    "binary_labels = []\n",
    "predictions = []\n",
    "\n",
    "with open('/hpc2hdd/home/dxing004/jhaidata/temp/LLaMA-Factory/saves/ChatGLM3-6B-Chat/lora/eval_2024-04-25-12-16-42/generated_predictions.jsonl', 'r') as file:\n",
    "    for line in file:\n",
    "        data = json.loads(line)\n",
    "        label = 1 if data['label'] == 'hate' else 0\n",
    "        predict = 0 if 'not hate'in data['predict'] else 1\n",
    "        binary_labels.append(label)\n",
    "        predictions.append(predict)\n",
    "\n",
    "# 计算评估指标\n",
    "accuracy = accuracy_score(binary_labels, predictions)\n",
    "precision = precision_score(binary_labels, predictions)\n",
    "recall = recall_score(binary_labels, predictions)\n",
    "f1 = f1_score(binary_labels, predictions)\n",
    "\n",
    "# 打印结果\n",
    "print(\"Accuracy:\", accuracy)\n",
    "print(\"Precision:\", precision)\n",
    "print(\"Recall:\", recall)\n",
    "print(\"F1-score:\", f1)"
   ]
  },
  {
   "cell_type": "markdown",
   "metadata": {},
   "source": [
    "## Hatecot"
   ]
  },
  {
   "cell_type": "code",
   "execution_count": 7,
   "metadata": {},
   "outputs": [
    {
     "name": "stdout",
     "output_type": "stream",
     "text": [
      "Accuracy: 0.8003643935450286\n",
      "Precision: 0.7766890149561629\n",
      "Recall: 0.8184782608695652\n",
      "F1-score: 0.797036252976978\n"
     ]
    }
   ],
   "source": [
    "import json\n",
    "from sklearn.metrics import accuracy_score, precision_score, recall_score, f1_score\n",
    "\n",
    "binary_labels = []\n",
    "predictions = []\n",
    "\n",
    "with open('/hpc2hdd/home/dxing004/jhaidata/temp/LLaMA-Factory/saves/ChatGLM3-6B-Chat/lora/eval_416_finetune_CHSD_cotprompt/generated_predictions.jsonl', 'r') as file:\n",
    "    for line in file:\n",
    "        data = json.loads(line)\n",
    "        label = 1 if data['label'] == 'hate' else 0\n",
    "        predict = 1 if data['predict'] == 'hate' else 0\n",
    "        binary_labels.append(label)\n",
    "        predictions.append(predict)\n",
    "\n",
    "# 计算评估指标\n",
    "accuracy = accuracy_score(binary_labels, predictions)\n",
    "precision = precision_score(binary_labels, predictions)\n",
    "recall = recall_score(binary_labels, predictions)\n",
    "f1 = f1_score(binary_labels, predictions)\n",
    "\n",
    "# 打印结果\n",
    "print(\"Accuracy:\", accuracy)\n",
    "print(\"Precision:\", precision)\n",
    "print(\"Recall:\", recall)\n",
    "print(\"F1-score:\", f1)"
   ]
  },
  {
   "cell_type": "code",
   "execution_count": 8,
   "metadata": {},
   "outputs": [
    {
     "name": "stdout",
     "output_type": "stream",
     "text": [
      "3842 3842\n",
      "Accuracy: 0.6585111920874545\n",
      "Precision: 0.6504297994269341\n",
      "Recall: 0.617855198693522\n",
      "F1-score: 0.6337241764377443\n"
     ]
    }
   ],
   "source": [
    "import json\n",
    "from sklearn.metrics import accuracy_score, precision_score, recall_score, f1_score\n",
    "\n",
    "binary_labels = []\n",
    "predictions = []\n",
    "\n",
    "with open('/hpc2hdd/home/dxing004/jhaidata/temp/LLaMA-Factory/saves/ChatGLM3-6B-Chat/lora/eval_418_glmnofinetune_CHSD_cotprompt/generated_predictions.jsonl', 'r') as file:\n",
    "    for line in file:\n",
    "        data = json.loads(line)\n",
    "        label = 1 if data['label'] == 'hate' else 0\n",
    "        predict_text = data['predict']\n",
    "        q5_index = predict_text.find('Q5')\n",
    "        if q5_index != -1:\n",
    "            q5_text = predict_text[q5_index:]\n",
    "            if 'not hate' in q5_text or 'No' in q5_text or '没有' in q5_text or'不' in q5_text :\n",
    "                predict = 0\n",
    "            else:\n",
    "                predict = 1\n",
    "        else:\n",
    "            predict = 0  # 如果未找到Q5，则将predict设为0\n",
    "        \n",
    "        binary_labels.append(label)\n",
    "        predictions.append(predict)\n",
    "print(len(binary_labels),len(predictions))\n",
    "\n",
    "# 计算评估指标\n",
    "accuracy = accuracy_score(binary_labels, predictions)\n",
    "precision = precision_score(binary_labels, predictions)\n",
    "recall = recall_score(binary_labels, predictions)\n",
    "f1 = f1_score(binary_labels, predictions)\n",
    "\n",
    "# 打印结果\n",
    "print(\"Accuracy:\", accuracy)\n",
    "print(\"Precision:\", precision)\n",
    "print(\"Recall:\", recall)\n",
    "print(\"F1-score:\", f1)"
   ]
  },
  {
   "cell_type": "code",
   "execution_count": null,
   "metadata": {},
   "outputs": [],
   "source": []
  }
 ],
 "metadata": {
  "kernelspec": {
   "display_name": "Python 3.10.13 ('xdyyy': conda)",
   "language": "python",
   "name": "python3"
  },
  "language_info": {
   "codemirror_mode": {
    "name": "ipython",
    "version": 3
   },
   "file_extension": ".py",
   "mimetype": "text/x-python",
   "name": "python",
   "nbconvert_exporter": "python",
   "pygments_lexer": "ipython3",
   "version": "3.10.13"
  },
  "orig_nbformat": 4,
  "vscode": {
   "interpreter": {
    "hash": "0c242311d2eb9b45d6fc6cb78eac4233b7c4552156a9a5bf3a1e07680e650e96"
   }
  }
 },
 "nbformat": 4,
 "nbformat_minor": 2
}
