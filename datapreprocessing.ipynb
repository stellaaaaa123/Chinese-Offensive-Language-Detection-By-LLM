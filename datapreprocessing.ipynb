{
 "cells": [
  {
   "cell_type": "markdown",
   "metadata": {},
   "source": [
    "## ToxiCN"
   ]
  },
  {
   "cell_type": "code",
   "execution_count": 2,
   "metadata": {},
   "outputs": [],
   "source": [
    "import csv\n",
    "import json\n",
    "\n",
    "def convert_toxic_data_to_format(csv_file_path, json_file_path):\n",
    "    toxic_types = ['非不良内容', '一般攻击性语言', '仇恨言论']\n",
    "    expressions = ['非仇恨', '显性仇恨言论', '隐性仇恨言论', '转述仇恨言论']\n",
    "    target_indices = ['LGBTQ', '地域', '性别歧视', '种族歧视', '其他', '非仇恨']\n",
    "\n",
    "    result = []  \n",
    "    with open(csv_file_path, newline='', encoding='utf-8') as csvfile:\n",
    "        reader = csv.DictReader(csvfile)\n",
    "        for row in reader:\n",
    "            output = generate_output(row)\n",
    "\n",
    "            entry = {\n",
    "                \"instruction\":\"\"\"请判断以下文本是否包含不良内容或攻击性言论，并给出相应的回答（not hate或hate）。若包含不良内容或攻击性言论，输出hate。否则，输出not hate。\"\"\",\n",
    "                \"input\": row['content'],\n",
    "                \"output\": output\n",
    "            }\n",
    "            result.append(entry)\n",
    "\n",
    "    with open(json_file_path, 'w', encoding='utf-8') as jsonfile:\n",
    "        json.dump(result, jsonfile, ensure_ascii=False, indent=2)\n",
    "\n",
    "def generate_output(row):\n",
    "    toxic = row['toxic']\n",
    "    return 'hate' if toxic == '1' else 'not hate'"
   ]
  },
  {
   "cell_type": "code",
   "execution_count": 3,
   "metadata": {},
   "outputs": [],
   "source": [
    "csv_file_path = '/hpc2hdd/home/dxing004/project/inputdata/ToxiCN_1.0.csv'\n",
    "json_file_path = '/hpc2hdd/home/dxing004/project/outputdata/ToxiCN_generalprompt.json'\n",
    "\n",
    "convert_toxic_data_to_format(csv_file_path, json_file_path)"
   ]
  },
  {
   "cell_type": "code",
   "execution_count": 4,
   "metadata": {},
   "outputs": [],
   "source": [
    "import json\n",
    "\n",
    "def split_json_file(original_file_path, train_file_path, test_file_path, test_ratio=0.2):\n",
    "    with open(original_file_path, 'r', encoding='utf-8') as f:\n",
    "        data = json.load(f) \n",
    "\n",
    "    test_count = int(len(data) * test_ratio)\n",
    "\n",
    "    test_data = data[:test_count]\n",
    "    train_data = data[test_count:]\n",
    "\n",
    "    with open(train_file_path, 'w', encoding='utf-8') as train_f:\n",
    "        json.dump(train_data, train_f, ensure_ascii=False, indent=2)\n",
    "\n",
    "    with open(test_file_path, 'w', encoding='utf-8') as test_f:\n",
    "        json.dump(test_data, test_f, ensure_ascii=False, indent=2)\n",
    "\n",
    "original_file_path = '/hpc2hdd/home/dxing004/project/outputdata/ToxiCN_generalprompt.json'\n",
    "train_file_path = '/hpc2hdd/home/dxing004/project/outputdata/ToxiCN_train_generalprompt.json'\n",
    "test_file_path = '/hpc2hdd/home/dxing004/project/outputdata/ToxiCN_test_generalprompt.json'\n",
    "\n",
    "split_json_file(original_file_path, train_file_path, test_file_path)"
   ]
  },
  {
   "cell_type": "code",
   "execution_count": 5,
   "metadata": {},
   "outputs": [],
   "source": [
    "import csv\n",
    "import json\n",
    "\n",
    "def convert_toxic_data_to_format(csv_file_path, json_file_path):\n",
    "    toxic_types = ['非不良内容', '一般攻击性语言', '仇恨言论']\n",
    "    expressions = ['非仇恨', '显性仇恨言论', '隐性仇恨言论', '转述仇恨言论']\n",
    "    target_indices = ['LGBTQ', '地域', '性别歧视', '种族歧视', '其他', '非仇恨']\n",
    "\n",
    "    result = []  \n",
    "    with open(csv_file_path, newline='', encoding='utf-8') as csvfile:\n",
    "        reader = csv.DictReader(csvfile)\n",
    "        for row in reader:\n",
    "            output = generate_output(row)\n",
    "\n",
    "            entry = {\n",
    "        #\"instruction\": \"\"\"你是一个非常出色的异常文本检测者，和chatgpt一样聪明。请判断以下文本是否包含不良内容，并给出相应的回答（not hate或hate）。部分参考规则：如果文本包含针对个人或群体的攻击性言论，包含歧视性语言（种族、性别、宗教、性取向等），包含脏话、辱骂贬低别人（如包含笨蛋、傻逼），请判断为包含不良内容，输出hate。否则判断为不包含不良内容，输出not hate。请一步步思考。\"\"\",\n",
    "                \"instruction\":\"\"\"请判断以下文本是否包含不良内容或攻击性言论，并给出相应的回答（not hate或hate）。若包含不良内容或攻击性言论，输出hate。否则，输出not hate。\"\"\",\n",
    "                \"input\": row['content'],\n",
    "                \"output\": output\n",
    "            }\n",
    "            result.append(entry)\n",
    "\n",
    "    # 将转换后的数据保存到JSON文件\n",
    "    with open(json_file_path, 'w', encoding='utf-8') as jsonfile:\n",
    "        json.dump(result, jsonfile, ensure_ascii=False, indent=2)\n",
    "\n",
    "def generate_output(row):\n",
    "    toxic = row['toxic']\n",
    "    # 直接返回0或1，根据toxic字段是否标记为'1'\n",
    "    return 'hate' if toxic == '1' else 'not hate'"
   ]
  },
  {
   "cell_type": "code",
   "execution_count": 6,
   "metadata": {},
   "outputs": [],
   "source": [
    "csv_file_path = '/hpc2hdd/home/dxing004/project/inputdata/ToxiCN_1.0.csv'\n",
    "json_file_path = '/hpc2hdd/home/dxing004/project/outputdata/ToxiCN_generalprompt.json'\n",
    "\n",
    "convert_toxic_data_to_format(csv_file_path, json_file_path)"
   ]
  },
  {
   "cell_type": "code",
   "execution_count": 7,
   "metadata": {},
   "outputs": [],
   "source": [
    "original_file_path = '/hpc2hdd/home/dxing004/project/outputdata/ToxiCN_generalprompt.json'\n",
    "train_file_path = '/hpc2hdd/home/dxing004/project/outputdata/ToxiCN_train_generalprompt.json'\n",
    "test_file_path = '/hpc2hdd/home/dxing004/project/outputdata/ToxiCN_test_generalprompt.json'\n",
    "\n",
    "split_json_file(original_file_path, train_file_path, test_file_path)"
   ]
  },
  {
   "cell_type": "markdown",
   "metadata": {},
   "source": [
    "## CHSD"
   ]
  },
  {
   "cell_type": "code",
   "execution_count": 9,
   "metadata": {},
   "outputs": [
    {
     "name": "stdout",
     "output_type": "stream",
     "text": [
      "Transformation complete. The data has been saved to '/hpc2hdd/home/dxing004/project/outputdata/CHSD_test_generalprompt.json'.\n"
     ]
    }
   ],
   "source": [
    "import csv\n",
    "import json\n",
    "\n",
    "# Load the dataset from the uploaded CSV file.\n",
    "csv_file_path = '/hpc2hdd/home/dxing004/project/inputdata/CHSD_test.csv'\n",
    "json_output_path = '/hpc2hdd/home/dxing004/project/outputdata/CHSD_test_generalprompt.json'\n",
    "\n",
    "# Prepare to transform the dataset.\n",
    "transformed_data = []\n",
    "\n",
    "with open(csv_file_path, mode='r', encoding='utf-8') as csv_file:\n",
    "    csv_reader = csv.DictReader(csv_file)\n",
    "\n",
    "    for row in csv_reader:\n",
    "        # Create a transformed item based on the row.\n",
    "        label = \"hate\" if row['label'] == '1' else \"not hate\"\n",
    "        transformed_item = {\n",
    "            \"instruction\":\"\"\"请判断以下文本是否包含不良内容或攻击性言论，并给出相应的回答（not hate或hate）。若包含不良内容或攻击性言论，输出hate。否则，输出not hate。\"\"\",\n",
    "            \"input\": row['text'],\n",
    "            \"output\": label\n",
    "        }\n",
    "\n",
    "        # Append the transformed item to the list.\n",
    "        transformed_data.append(transformed_item)\n",
    "\n",
    "# Convert the transformed data to JSON format.\n",
    "with open(json_output_path, 'w', encoding='utf-8') as json_file:\n",
    "    json.dump(transformed_data, json_file, indent=4, ensure_ascii=False)\n",
    "\n",
    "print(f\"Transformation complete. The data has been saved to '{json_output_path}'.\")"
   ]
  },
  {
   "cell_type": "code",
   "execution_count": 3,
   "metadata": {},
   "outputs": [
    {
     "name": "stdout",
     "output_type": "stream",
     "text": [
      "Transformation complete. The data has been saved to '/hpc2hdd/home/dxing004/project/outputdata/CHSD_test_yuancotprompt.json'.\n"
     ]
    }
   ],
   "source": [
    "import csv\n",
    "import json\n",
    "\n",
    "# Load the dataset from the uploaded CSV file.\n",
    "csv_file_path = '/hpc2hdd/home/dxing004/project/inputdata/CHSD_test.csv'\n",
    "json_output_path = '/hpc2hdd/home/dxing004/project/outputdata/CHSD_test_yuancotprompt.json'\n",
    "\n",
    "# Prepare to transform the dataset.\n",
    "transformed_data = []\n",
    "\n",
    "with open(csv_file_path, mode='r', encoding='utf-8') as csv_file:\n",
    "    csv_reader = csv.DictReader(csv_file)\n",
    "\n",
    "    for row in csv_reader:\n",
    "        # Create a transformed item based on the row.\n",
    "        label = \"hate\" if row['label'] == '1' else \"not hate\"\n",
    "        transformed_item = {\n",
    "            \"instruction\":\"\"\"你是一个非常出色的不良言论检测者。考虑给定文本，并仔细回答每个步骤中的问题，以确定它是否属于不良或攻击性言论===》\n",
    "让我们按照以下步骤进行思考：\n",
    "Q1: 文本中是否提到某个体或身份特征如'种族', '国籍', '年龄', '政治', '宗教', '残疾', '地域', '性别','职业'等。\n",
    "Q2: 文本中是否有任何羞辱或贬低的词语或脏话。\n",
    "Q3: 如果Q2的答案是'Yes'，那么这些词语或短语是否针对或指向你在Q1的身份或个体。\n",
    "Q4: 如果Q3的答案是'Yes'，那么这些词语或短语是否表达对Q1中身份或个体的攻击。\n",
    "Q5: 如果Q4的答案是'Yes'，请只输出'hate'，否则只输出'not hate'。\n",
    "\n",
    "最终你输出的结果应该只包含以下标准结构中的内容：<start> ['Q1':具体个体或身份特征 ] ['Q2':'Yes' or 'No'] ['Q3':'Yes' or 'No'] ['Q4:'Yes' or 'No'] ['Q5': 'hate'or 'not hate'] <end>\n",
    "例如：['Q1':'司机']['Q2':'Yes']['Q3':'Yes']['Q4:'Yes']['Q5':'hate']，['Q1':'男人']['Q2':'Yes']['Q3':'No']['Q4:'No']['Q5':'not hate']\n",
    "\"\"\",\n",
    "            \"input\": row['text'],\n",
    "            \"output\": label\n",
    "        }\n",
    "\n",
    "        # Append the transformed item to the list.\n",
    "        transformed_data.append(transformed_item)\n",
    "\n",
    "# Convert the transformed data to JSON format.\n",
    "with open(json_output_path, 'w', encoding='utf-8') as json_file:\n",
    "    json.dump(transformed_data, json_file, indent=4, ensure_ascii=False)\n",
    "\n",
    "print(f\"Transformation complete. The data has been saved to '{json_output_path}'.\")"
   ]
  },
  {
   "cell_type": "code",
   "execution_count": 1,
   "metadata": {},
   "outputs": [
    {
     "name": "stdout",
     "output_type": "stream",
     "text": [
      "Transformation complete. The data has been saved to '/hpc2hdd/home/dxing004/project/outputdata/CHSD_test_fewprompt.json'.\n"
     ]
    }
   ],
   "source": [
    "import csv\n",
    "import json\n",
    "\n",
    "# Load the dataset from the uploaded CSV file.\n",
    "csv_file_path = '/hpc2hdd/home/dxing004/project/inputdata/CHSD_test.csv'\n",
    "json_output_path = '/hpc2hdd/home/dxing004/project/outputdata/CHSD_test_fewprompt.json'\n",
    "\n",
    "# Prepare to transform the dataset.\n",
    "transformed_data = []\n",
    "\n",
    "with open(csv_file_path, mode='r', encoding='utf-8') as csv_file:\n",
    "    csv_reader = csv.DictReader(csv_file)\n",
    "\n",
    "    for row in csv_reader:\n",
    "        # Create a transformed item based on the row.\n",
    "        label = \"hate\" if row['label'] == '1' else \"not hate\"\n",
    "        transformed_item = {\n",
    "            \"instruction\":\"\"\"你是一个内容审核专家，能判断文本是否包含攻击性内容（包含对种族、性别、宗教、性取向等歧视性语言，以及贬低他人等）。请在您的判断中考虑帖子的整体语境和表达的细节，以便做出准确的评估。例如，如果帖子以负面方式描绘了某一特定群体，即使没有直接使用侮辱性语言，也应视为有害内容，如文本“女孩子学不好数学，这是天生的”是hate，“上海人表示不对”是not hate。给出相应的回答（只输出not hate或hate）\"\"\",\n",
    "            \"input\": row['text'],\n",
    "            \"output\": label\n",
    "        }\n",
    "\n",
    "        # Append the transformed item to the list.\n",
    "        transformed_data.append(transformed_item)\n",
    "\n",
    "# Convert the transformed data to JSON format.\n",
    "with open(json_output_path, 'w', encoding='utf-8') as json_file:\n",
    "    json.dump(transformed_data, json_file, indent=4, ensure_ascii=False)\n",
    "\n",
    "print(f\"Transformation complete. The data has been saved to '{json_output_path}'.\")"
   ]
  },
  {
   "cell_type": "markdown",
   "metadata": {},
   "source": [
    "## COLD"
   ]
  },
  {
   "cell_type": "code",
   "execution_count": 3,
   "metadata": {},
   "outputs": [
    {
     "name": "stdout",
     "output_type": "stream",
     "text": [
      "Transformation complete. The data has been saved to '/hpc2hdd/home/dxing004/project/outputdata/COLD_train_generalprompt.json'.\n"
     ]
    }
   ],
   "source": [
    "import csv\n",
    "import json\n",
    "\n",
    "# Load the dataset from the uploaded CSV file.\n",
    "csv_file_path = '/hpc2hdd/home/dxing004/project/inputdata/COLD_train.csv'\n",
    "json_output_path = '/hpc2hdd/home/dxing004/project/outputdata/COLD_train_generalprompt.json'\n",
    "\n",
    "# Prepare to transform the dataset.\n",
    "transformed_data = []\n",
    "\n",
    "with open(csv_file_path, mode='r', encoding='utf-8') as csv_file:\n",
    "    csv_reader = csv.DictReader(csv_file)\n",
    "\n",
    "    for row in csv_reader:\n",
    "        # Create a transformed item based on the row.\n",
    "        label = \"hate\" if row['label'] == '1' else \"not hate\"\n",
    "        transformed_item = {\n",
    "            \"instruction\":\"\"\"请判断以下文本是否包含不良内容或攻击性言论，并给出相应的回答（not hate或hate）。若包含不良内容或攻击性言论，输出hate。否则，输出not hate。\"\"\",\n",
    "            \"input\": row['TEXT'],\n",
    "            \"output\": label\n",
    "        }\n",
    "\n",
    "        # Append the transformed item to the list.\n",
    "        transformed_data.append(transformed_item)\n",
    "\n",
    "# Convert the transformed data to JSON format.\n",
    "with open(json_output_path, 'w', encoding='utf-8') as json_file:\n",
    "    json.dump(transformed_data, json_file, indent=4, ensure_ascii=False)\n",
    "\n",
    "print(f\"Transformation complete. The data has been saved to '{json_output_path}'.\")"
   ]
  },
  {
   "cell_type": "code",
   "execution_count": 3,
   "metadata": {},
   "outputs": [
    {
     "name": "stdout",
     "output_type": "stream",
     "text": [
      "Transformation complete. The data has been saved to '/hpc2hdd/home/dxing004/project/outputdata/COLD_test_fewprompt.json'.\n"
     ]
    }
   ],
   "source": [
    "import csv\n",
    "import json\n",
    "\n",
    "# Load the dataset from the uploaded CSV file.\n",
    "csv_file_path = '/hpc2hdd/home/dxing004/project/inputdata/COLD_test.csv'\n",
    "json_output_path = '/hpc2hdd/home/dxing004/project/outputdata/COLD_test_fewprompt.json'\n",
    "\n",
    "# Prepare to transform the dataset.\n",
    "transformed_data = []\n",
    "\n",
    "with open(csv_file_path, mode='r', encoding='utf-8') as csv_file:\n",
    "    csv_reader = csv.DictReader(csv_file)\n",
    "\n",
    "    for row in csv_reader:\n",
    "        # Create a transformed item based on the row.\n",
    "        label = \"hate\" if row['label'] == '1' else \"not hate\"\n",
    "        transformed_item = {\n",
    "            \"instruction\":\"\"\"你是一个内容审核专家，能判断文本是否包含攻击性内容（包含对种族、性别、宗教、性取向等歧视性语言，以及贬低他人等）。请在您的判断中考虑帖子的整体语境和表达的细节，以便做出准确的评估。例如，如果帖子以负面方式描绘了某一特定群体，即使没有直接使用侮辱性语言，也应视为有害内容，如文本“女孩子学不好数学，这是天生的”是hate，“上海人表示不对”是not hate。给出相应的回答（只输出not hate或hate）\"\"\",\n",
    "            \"input\": row['TEXT'],\n",
    "            \"output\": label\n",
    "        }\n",
    "\n",
    "        # Append the transformed item to the list.\n",
    "        transformed_data.append(transformed_item)\n",
    "\n",
    "# Convert the transformed data to JSON format.\n",
    "with open(json_output_path, 'w', encoding='utf-8') as json_file:\n",
    "    json.dump(transformed_data, json_file, indent=4, ensure_ascii=False)\n",
    "\n",
    "print(f\"Transformation complete. The data has been saved to '{json_output_path}'.\")"
   ]
  },
  {
   "cell_type": "code",
   "execution_count": null,
   "metadata": {},
   "outputs": [],
   "source": []
  }
 ],
 "metadata": {
  "kernelspec": {
   "display_name": "Python 3.10.13 ('xdyyy': conda)",
   "language": "python",
   "name": "python3"
  },
  "language_info": {
   "codemirror_mode": {
    "name": "ipython",
    "version": 3
   },
   "file_extension": ".py",
   "mimetype": "text/x-python",
   "name": "python",
   "nbconvert_exporter": "python",
   "pygments_lexer": "ipython3",
   "version": "3.10.13"
  },
  "orig_nbformat": 4,
  "vscode": {
   "interpreter": {
    "hash": "0c242311d2eb9b45d6fc6cb78eac4233b7c4552156a9a5bf3a1e07680e650e96"
   }
  }
 },
 "nbformat": 4,
 "nbformat_minor": 2
}
