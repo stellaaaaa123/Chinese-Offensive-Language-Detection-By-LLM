{
 "cells": [
  {
   "cell_type": "code",
   "execution_count": 3,
   "metadata": {},
   "outputs": [],
   "source": [
    "import json\n",
    "import time\n",
    "from vllm import LLM, SamplingParams\n",
    "from transformers import AutoTokenizer"
   ]
  },
  {
   "cell_type": "code",
   "execution_count": null,
   "metadata": {},
   "outputs": [],
   "source": [
    "model_path = \"/hpc2hdd/home/dxing004/jhaidata/temp/LLaMA-Factory/export/lora_422_toxiCHCO_generalprompt\"\n",
    "tokenizer = AutoTokenizer.from_pretrained(model_path, trust_remote_code=True)\n",
    "sampling_params = SamplingParams(temperature=0, top_p=0.7)\n",
    "llm = LLM(model=model_path, trust_remote_code=True)"
   ]
  },
  {
   "cell_type": "code",
   "execution_count": 5,
   "metadata": {},
   "outputs": [],
   "source": [
    "# 从JSON文件中读取数据\n",
    "def load_data_from_json(file_path):\n",
    "    with open(file_path, 'r', encoding='utf-8') as file:\n",
    "        return json.load(file)\n",
    "\n",
    "def build_prompt(message):\n",
    "    messages = [\n",
    "        {\"role\": \"system\", \"content\": message['instruction']},\n",
    "        {\"role\": \"user\", \"content\": message['input']}\n",
    "    ]\n",
    "    text = tokenizer.apply_chat_template(\n",
    "        messages,\n",
    "        tokenize=False,\n",
    "        add_generation_prompt=True)\n",
    "    return text\n",
    "\n",
    "def generate_prompts(data):\n",
    "    prompts = []\n",
    "    for item in data:\n",
    "        text = build_prompt(item)\n",
    "        prompts.append(text)\n",
    "    return prompts\n",
    "\n",
    "# 创建推理函数\n",
    "def batch_inference(prompts, llm, sampling_params):\n",
    "    start_time = time.time()  # 记录开始时间\n",
    "    outputs = llm.generate(prompts, sampling_params)\n",
    "    end_time = time.time()  # 记录结束时间\n",
    "    inference_time = end_time - start_time  # 计算总耗时\n",
    "    return outputs, inference_time"
   ]
  },
  {
   "cell_type": "code",
   "execution_count": 6,
   "metadata": {},
   "outputs": [],
   "source": [
    "# 从JSON文件中读取数据\n",
    "def load_data_from_json(file_path):\n",
    "    with open(file_path, 'r', encoding='utf-8') as file:\n",
    "        return json.load(file)\n",
    "\n",
    "def generate_prompts(data):\n",
    "    prompts = []\n",
    "    for item in data:\n",
    "        messages = [\n",
    "        {\"role\": \"system\", \"content\": item['instruction']},\n",
    "        {\"role\": \"user\", \"content\": item['input']}]\n",
    "        text = tokenizer.apply_chat_template(\n",
    "        messages,\n",
    "        tokenize=False,\n",
    "        add_generation_prompt=True)\n",
    "        prompts.append(text)\n",
    "    return prompts\n",
    "\n",
    "# 创建推理函数\n",
    "def batch_inference(prompts, llm, sampling_params):\n",
    "    start_time = time.time()  # 记录开始时间\n",
    "    outputs = llm.generate(prompts, sampling_params)\n",
    "    end_time = time.time()  # 记录结束时间\n",
    "    inference_time = end_time - start_time  # 计算总耗时\n",
    "    return outputs, inference_time"
   ]
  },
  {
   "cell_type": "code",
   "execution_count": 7,
   "metadata": {},
   "outputs": [],
   "source": [
    "def save_results_to_jsonl(data, outputs, file_path):\n",
    "    with open(file_path, 'w', encoding='utf-8') as file:\n",
    "        for item, output in zip(data, outputs):\n",
    "            result_dict = {\n",
    "                \"label\": item['output'],\n",
    "                \"predict\": output.outputs[0].text.strip()\n",
    "                }\n",
    "            json_line = json.dumps(result_dict, ensure_ascii=False) + \"\\n\"\n",
    "            file.write(json_line)"
   ]
  },
  {
   "cell_type": "code",
   "execution_count": 5,
   "metadata": {},
   "outputs": [],
   "source": [
    "def save_results_to_jsonl(data, outputs, file_path):\n",
    "    with open(file_path, 'w', encoding='utf-8') as file:\n",
    "        for item, output in zip(data, outputs):\n",
    "            generated_text = output.outputs[0].text.strip()\n",
    "            is_not_hate = any(word in generated_text for word in [\"not hate\", \"not toxic\", \"无害\", \"非有害\", \"无毒\", \"非有毒\", '不仇恨', \"No\", \"没有\", \"不\", \"no\"])\n",
    "            predict_label = \"not hate\" if is_not_hate else item['output']\n",
    "            result_dict = {\n",
    "                \"label\": item['output'],\n",
    "                \"predict\": predict_label\n",
    "            }\n",
    "            json_line = json.dumps(result_dict, ensure_ascii=False) + \"\\n\"\n",
    "            file.write(json_line)\n"
   ]
  },
  {
   "cell_type": "code",
   "execution_count": 6,
   "metadata": {},
   "outputs": [],
   "source": [
    "def inference(data_path,save_path):\n",
    "    # 加载数据\n",
    "    data = load_data_from_json(data_path)\n",
    "    \n",
    "    # 生成提示\n",
    "    prompts = generate_prompts(data)\n",
    "\n",
    "    # 执行批量推理，并记录总耗时\n",
    "    outputs, total_inference_time = batch_inference(prompts, llm, sampling_params)\n",
    "\n",
    "    save_results_to_jsonl(data, outputs, save_path)\n",
    "\n",
    "    # 分析结果\n",
    "    correct_predictions = 0\n",
    "    for output, item in zip(outputs, data):\n",
    "        generated_text = output.outputs[0].text.strip()\n",
    "        if generated_text == item['output']:\n",
    "            correct_predictions += 1\n",
    "    \n",
    "    # 计算统计信息\n",
    "    accuracy = correct_predictions / len(data)\n",
    "    inference_speed = len(data) / total_inference_time  # 推理速度（样本/秒）\n",
    "\n",
    "    # 打印结果\n",
    "    print(data_path)\n",
    "    print(f\"准确率: {accuracy * 100:.2f}%\")\n",
    "    print(f\"总耗时: {total_inference_time:.2f}秒\")\n",
    "    print(f\"样本个数: {len(data)}\")\n",
    "    print(f\"推理速度: {inference_speed:.2f}样本/秒\")\n",
    "    "
   ]
  },
  {
   "cell_type": "code",
   "execution_count": 10,
   "metadata": {},
   "outputs": [
    {
     "name": "stderr",
     "output_type": "stream",
     "text": [
      "Processed prompts: 100%|██████████| 5323/5323 [00:29<00:00, 180.16it/s]"
     ]
    },
    {
     "name": "stdout",
     "output_type": "stream",
     "text": [
      "/hpc2hdd/home/dxing004/project/zh/COLD_test_generalprompt.json\n",
      "准确率: 79.94%\n",
      "总耗时: 31.85秒\n",
      "样本个数: 5323\n",
      "推理速度: 167.14样本/秒\n"
     ]
    },
    {
     "name": "stderr",
     "output_type": "stream",
     "text": [
      "\n"
     ]
    }
   ],
   "source": [
    "data_path = '/hpc2hdd/home/dxing004/project/zh/COLD_test_generalprompt.json'\n",
    "save_path = '/hpc2hdd/home/dxing004/project/result/test4.jsonl'\n",
    "inference(data_path,save_path)"
   ]
  },
  {
   "cell_type": "code",
   "execution_count": 22,
   "metadata": {},
   "outputs": [
    {
     "name": "stderr",
     "output_type": "stream",
     "text": [
      "Processed prompts: 100%|██████████| 5323/5323 [00:44<00:00, 118.56it/s]\n"
     ]
    },
    {
     "name": "stdout",
     "output_type": "stream",
     "text": [
      "/hpc2hdd/home/dxing004/project/zh/COLD_test_fewprompt.json\n",
      "准确率: 72.85%\n",
      "总耗时: 48.19秒\n",
      "样本个数: 5323\n",
      "推理速度: 110.45样本/秒\n"
     ]
    }
   ],
   "source": [
    "data_path = '/hpc2hdd/home/dxing004/project/zh/COLD_test_fewprompt.json'\n",
    "save_path = '/hpc2hdd/home/dxing004/project/result/test5.jsonl'\n",
    "inference(data_path,save_path)"
   ]
  },
  {
   "cell_type": "code",
   "execution_count": 9,
   "metadata": {},
   "outputs": [
    {
     "name": "stderr",
     "output_type": "stream",
     "text": [
      "Processed prompts: 100%|██████████| 3842/3842 [00:21<00:00, 180.55it/s]"
     ]
    },
    {
     "name": "stdout",
     "output_type": "stream",
     "text": [
      "/hpc2hdd/home/dxing004/project/outputdata/CHSD_test_generalprompt.json\n",
      "准确率: 77.75%\n",
      "总耗时: 22.90秒\n",
      "样本个数: 3842\n",
      "推理速度: 167.80样本/秒\n"
     ]
    },
    {
     "name": "stderr",
     "output_type": "stream",
     "text": [
      "\n"
     ]
    }
   ],
   "source": [
    "data_path = '/hpc2hdd/home/dxing004/project/outputdata/CHSD_test_generalprompt.json'\n",
    "save_path = '/hpc2hdd/home/dxing004/project/result/test3.jsonl'\n",
    "inference(data_path,save_path)"
   ]
  },
  {
   "cell_type": "code",
   "execution_count": 23,
   "metadata": {},
   "outputs": [
    {
     "name": "stderr",
     "output_type": "stream",
     "text": [
      "Processed prompts: 100%|██████████| 3842/3842 [00:32<00:00, 117.38it/s]\n"
     ]
    },
    {
     "name": "stdout",
     "output_type": "stream",
     "text": [
      "/hpc2hdd/home/dxing004/project/zh/CHSD_test_fewprompt.json\n",
      "准确率: 68.84%\n",
      "总耗时: 35.10秒\n",
      "样本个数: 3842\n",
      "推理速度: 109.45样本/秒\n"
     ]
    },
    {
     "ename": "",
     "evalue": "",
     "output_type": "error",
     "traceback": [
      "The Kernel crashed while executing code in the the current cell or a previous cell. Please review the code in the cell(s) to identify a possible cause of the failure. Click <a href='https://aka.ms/vscodeJupyterKernelCrash'>here</a> for more info. View Jupyter <a href='command:jupyter.viewOutput'>log</a> for further details."
     ]
    }
   ],
   "source": [
    "data_path = '/hpc2hdd/home/dxing004/project/zh/CHSD_test_fewprompt.json'\n",
    "save_path = '/hpc2hdd/home/dxing004/project/result/test6.jsonl'\n",
    "inference(data_path,save_path)"
   ]
  },
  {
   "cell_type": "code",
   "execution_count": 7,
   "metadata": {},
   "outputs": [
    {
     "name": "stderr",
     "output_type": "stream",
     "text": [
      "Processed prompts: 100%|██████████| 2402/2402 [00:45<00:00, 52.35it/s] "
     ]
    },
    {
     "name": "stdout",
     "output_type": "stream",
     "text": [
      "/hpc2hdd/home/dxing004/project/zh/ToxiCN_test_generalprompt.json\n",
      "准确率: 72.11%\n",
      "总耗时: 46.92秒\n",
      "样本个数: 2402\n",
      "推理速度: 51.19样本/秒\n"
     ]
    },
    {
     "name": "stderr",
     "output_type": "stream",
     "text": [
      "\n"
     ]
    }
   ],
   "source": [
    "data_path = '/hpc2hdd/home/dxing004/project/zh/ToxiCN_test_generalprompt.json'\n",
    "save_path = '/hpc2hdd/home/dxing004/project/result/test1.jsonl'\n",
    "inference(data_path,save_path)"
   ]
  },
  {
   "cell_type": "code",
   "execution_count": 12,
   "metadata": {},
   "outputs": [],
   "source": [
    "import json\n",
    "from sklearn.metrics import accuracy_score, precision_score, recall_score, f1_score\n",
    "\n",
    "def inference(data_path,save_path):\n",
    "    # 加载数据\n",
    "    data = load_data_from_json(data_path)\n",
    "    \n",
    "    # 生成提示\n",
    "    prompts = generate_prompts(data)\n",
    "\n",
    "    # 执行批量推理，并记录总耗时\n",
    "    outputs, total_inference_time = batch_inference(prompts, llm, sampling_params)\n",
    "\n",
    "    save_results_to_jsonl(data, outputs, save_path)\n",
    "\n",
    "\n",
    "    binary_labels = []\n",
    "    predictions = []\n",
    "    length=len(data)\n",
    "    with open(save_path, 'r') as file:\n",
    "        for line in file:\n",
    "            data = json.loads(line)\n",
    "            label = 1 if data['label'] == 'hate' else 0\n",
    "            predict = 1 if data['predict'] == 'hate' else 0\n",
    "            binary_labels.append(label)\n",
    "            predictions.append(predict)\n",
    "\n",
    "    # 计算评估指标\n",
    "    accuracy = accuracy_score(binary_labels, predictions)\n",
    "    precision = precision_score(binary_labels, predictions)\n",
    "    recall = recall_score(binary_labels, predictions)\n",
    "    f1 = f1_score(binary_labels, predictions)\n",
    "    \n",
    "    inference_speed = length / total_inference_time  # 推理速度（样本/秒）\n",
    "\n",
    "    # 打印结果\n",
    "    print(data_path)\n",
    "    print(\"Accuracy:\", accuracy)\n",
    "    print(\"Precision:\", precision)\n",
    "    print(\"Recall:\", recall)\n",
    "    print(\"F1-score:\", f1)\n",
    "    print(f\"总耗时: {total_inference_time:.2f}秒\")\n",
    "    print(f\"样本个数: {length}\")\n",
    "    print(f\"推理速度: {inference_speed:.2f}样本/秒\")\n",
    "    "
   ]
  },
  {
   "cell_type": "code",
   "execution_count": 13,
   "metadata": {},
   "outputs": [
    {
     "name": "stderr",
     "output_type": "stream",
     "text": [
      "Processed prompts: 100%|██████████| 2402/2402 [00:12<00:00, 186.71it/s]"
     ]
    },
    {
     "name": "stdout",
     "output_type": "stream",
     "text": [
      "/hpc2hdd/home/dxing004/project/zh/ToxiCN_test_generalprompt.json\n",
      "Accuracy: 0.7210657785179018\n",
      "Precision: 0.8390928725701944\n",
      "Recall: 0.598613251155624\n",
      "F1-score: 0.6987410071942446\n",
      "总耗时: 13.83秒\n",
      "样本个数: 2402\n",
      "推理速度: 173.63样本/秒\n"
     ]
    },
    {
     "name": "stderr",
     "output_type": "stream",
     "text": [
      "\n"
     ]
    },
    {
     "ename": "",
     "evalue": "",
     "output_type": "error",
     "traceback": [
      "The Kernel crashed while executing code in the the current cell or a previous cell. Please review the code in the cell(s) to identify a possible cause of the failure. Click <a href='https://aka.ms/vscodeJupyterKernelCrash'>here</a> for more info. View Jupyter <a href='command:jupyter.viewOutput'>log</a> for further details."
     ]
    }
   ],
   "source": [
    "data_path = '/hpc2hdd/home/dxing004/project/zh/ToxiCN_test_generalprompt.json'\n",
    "save_path = '/hpc2hdd/home/dxing004/project/result/test1.jsonl'\n",
    "inference(data_path,save_path)"
   ]
  },
  {
   "cell_type": "code",
   "execution_count": null,
   "metadata": {},
   "outputs": [],
   "source": []
  }
 ],
 "metadata": {
  "kernelspec": {
   "display_name": "Python 3.9.19 ('lightllm': conda)",
   "language": "python",
   "name": "python3"
  },
  "language_info": {
   "codemirror_mode": {
    "name": "ipython",
    "version": 3
   },
   "file_extension": ".py",
   "mimetype": "text/x-python",
   "name": "python",
   "nbconvert_exporter": "python",
   "pygments_lexer": "ipython3",
   "version": "3.9.19"
  },
  "orig_nbformat": 4,
  "vscode": {
   "interpreter": {
    "hash": "3088c82759aad9586a17f1d2780c49c4f4d07460ef336e11e146906f66f6bd01"
   }
  }
 },
 "nbformat": 4,
 "nbformat_minor": 2
}
