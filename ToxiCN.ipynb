{
 "cells": [
  {
   "cell_type": "code",
   "execution_count": 1,
   "id": "4c2a306563fc6bd0",
   "metadata": {
    "ExecuteTime": {
     "end_time": "2024-03-21T14:09:42.998106Z",
     "start_time": "2024-03-21T14:09:42.673437Z"
    },
    "collapsed": false
   },
   "outputs": [
    {
     "name": "stdout",
     "output_type": "stream",
     "text": [
      "toxic\n",
      "1    6461\n",
      "0    5550\n",
      "Name: count, dtype: int64\n"
     ]
    }
   ],
   "source": [
    "import pandas as pd\n",
    "\n",
    "# 读取csv文件\n",
    "df = pd.read_csv('/hpc2hdd/home/dxing004/project/inputdata/ToxiCN_1.0.csv')\n",
    "\n",
    "# 分析toxic字段的比例\n",
    "toxic_count = df['toxic'].value_counts()\n",
    "print(toxic_count)"
   ]
  },
  {
   "cell_type": "code",
   "execution_count": 2,
   "id": "4203bd87172d6ea0",
   "metadata": {
    "ExecuteTime": {
     "end_time": "2024-03-21T14:09:54.071509Z",
     "start_time": "2024-03-21T14:09:54.067831Z"
    },
    "collapsed": false
   },
   "outputs": [
    {
     "name": "stdout",
     "output_type": "stream",
     "text": [
      "toxic_type\n",
      "2    5645\n",
      "0    5550\n",
      "1     816\n",
      "Name: count, dtype: int64\n"
     ]
    }
   ],
   "source": [
    "# 分析toxic_type字段的比例\n",
    "toxic_type_count = df['toxic_type'].value_counts()\n",
    "print(toxic_type_count)"
   ]
  },
  {
   "cell_type": "code",
   "execution_count": 6,
   "id": "a03598a8",
   "metadata": {},
   "outputs": [
    {
     "name": "stdout",
     "output_type": "stream",
     "text": [
      "expression\n",
      "0    1271\n",
      "1     524\n",
      "2     435\n",
      "3     181\n",
      "Name: count, dtype: int64\n"
     ]
    }
   ],
   "source": [
    "expression_count = df['expression'].value_counts()\n",
    "print(expression_count)"
   ]
  },
  {
   "cell_type": "code",
   "execution_count": 3,
   "id": "fbd27cb0518ab06f",
   "metadata": {
    "ExecuteTime": {
     "end_time": "2024-03-21T14:10:01.030746Z",
     "start_time": "2024-03-21T14:10:01.024795Z"
    },
    "collapsed": false
   },
   "outputs": [
    {
     "name": "stdout",
     "output_type": "stream",
     "text": [
      "expression\n",
      "0    6366\n",
      "1    2737\n",
      "2    1995\n",
      "3     913\n",
      "Name: count, dtype: int64\n"
     ]
    }
   ],
   "source": [
    "# 分析expression字段的比例\n",
    "expression_count = df['expression'].value_counts()\n",
    "print(expression_count)"
   ]
  },
  {
   "cell_type": "code",
   "execution_count": 5,
   "id": "b2f6f7b359dd48b8",
   "metadata": {
    "ExecuteTime": {
     "end_time": "2024-03-21T14:10:06.019976Z",
     "start_time": "2024-03-21T14:10:06.016871Z"
    },
    "collapsed": false
   },
   "outputs": [
    {
     "name": "stdout",
     "output_type": "stream",
     "text": [
      "target\n",
      "1    11166\n",
      "2      787\n",
      "3       54\n",
      "0        3\n",
      "4        1\n",
      "Name: count, dtype: int64\n"
     ]
    }
   ],
   "source": [
    "import json\n",
    "# 分析target字段的比例\n",
    "target_count = df['target'].apply(lambda x: sum(json.loads(x))).value_counts()\n",
    "print(target_count)"
   ]
  },
  {
   "cell_type": "code",
   "execution_count": 9,
   "id": "cd528ff7",
   "metadata": {},
   "outputs": [],
   "source": [
    "test_ratio=0.2\n",
    "test_count = int(len(df) * test_ratio)\n",
    "test_data = df[:test_count]\n",
    "train_data = df[test_count:]"
   ]
  },
  {
   "cell_type": "code",
   "execution_count": 10,
   "id": "cd52e47d6195a034",
   "metadata": {
    "ExecuteTime": {
     "end_time": "2024-03-21T14:21:46.560102Z",
     "start_time": "2024-03-21T14:21:46.554712Z"
    },
    "collapsed": false
   },
   "outputs": [
    {
     "name": "stdout",
     "output_type": "stream",
     "text": [
      "(2402, 12)\n",
      "(9609, 12)\n"
     ]
    }
   ],
   "source": [
    "# 查看数据集的大小\n",
    "print(test_data.shape)\n",
    "print(train_data.shape)"
   ]
  },
  {
   "cell_type": "code",
   "execution_count": 13,
   "id": "1aa6ef86fbe9b75d",
   "metadata": {
    "ExecuteTime": {
     "end_time": "2024-03-21T14:22:43.966654Z",
     "start_time": "2024-03-21T14:22:43.962874Z"
    },
    "collapsed": false
   },
   "outputs": [
    {
     "name": "stdout",
     "output_type": "stream",
     "text": [
      "toxic\n",
      "1    5163\n",
      "0    4446\n",
      "Name: count, dtype: int64\n",
      "toxic\n",
      "1    1298\n",
      "0    1104\n",
      "Name: count, dtype: int64\n"
     ]
    }
   ],
   "source": [
    "# 分析train test toxic字段的比例\n",
    "toxic_count_train = train_data['toxic'].value_counts()\n",
    "toxic_count_test = test_data['toxic'].value_counts()\n",
    "print(toxic_count_train)\n",
    "print(toxic_count_test)"
   ]
  },
  {
   "cell_type": "code",
   "execution_count": 14,
   "id": "6db7454cd0f8ec84",
   "metadata": {
    "ExecuteTime": {
     "end_time": "2024-03-21T14:24:08.634658Z",
     "start_time": "2024-03-21T14:24:08.627255Z"
    },
    "collapsed": false
   },
   "outputs": [
    {
     "name": "stdout",
     "output_type": "stream",
     "text": [
      "expression\n",
      "0    5101\n",
      "1    2215\n",
      "2    1561\n",
      "3     732\n",
      "Name: count, dtype: int64\n",
      "expression\n",
      "0    1265\n",
      "1     522\n",
      "2     434\n",
      "3     181\n",
      "Name: count, dtype: int64\n"
     ]
    }
   ],
   "source": [
    "# 分析train test expression字段的比例\n",
    "expression_count_train = train_data['expression'].value_counts()\n",
    "expression_count_test = test_data['expression'].value_counts()\n",
    "print(expression_count_train)\n",
    "print(expression_count_test)"
   ]
  },
  {
   "cell_type": "code",
   "execution_count": null,
   "id": "0149a173",
   "metadata": {},
   "outputs": [],
   "source": []
  }
 ],
 "metadata": {
  "kernelspec": {
   "display_name": "Python 3.10.13 ('pytorch')",
   "language": "python",
   "name": "python3"
  },
  "language_info": {
   "codemirror_mode": {
    "name": "ipython",
    "version": 3
   },
   "file_extension": ".py",
   "mimetype": "text/x-python",
   "name": "python",
   "nbconvert_exporter": "python",
   "pygments_lexer": "ipython3",
   "version": "3.10.13"
  },
  "vscode": {
   "interpreter": {
    "hash": "b2a38706d157236e441dfac603b5fcb19ce8f393da6935a7dfb95be9e2b1b522"
   }
  }
 },
 "nbformat": 4,
 "nbformat_minor": 5
}
